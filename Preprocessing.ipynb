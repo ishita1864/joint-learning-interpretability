{
 "cells": [
  {
   "cell_type": "code",
   "execution_count": 21,
   "id": "d1c066a8",
   "metadata": {},
   "outputs": [],
   "source": [
    "import pandas as pd"
   ]
  },
  {
   "cell_type": "code",
   "execution_count": 22,
   "id": "84b9145f",
   "metadata": {},
   "outputs": [],
   "source": [
    "df = pd.read_csv('alldatasets.csv')"
   ]
  },
  {
   "cell_type": "code",
   "execution_count": 23,
   "id": "33d8f594",
   "metadata": {},
   "outputs": [
    {
     "data": {
      "text/html": [
       "<div>\n",
       "<style scoped>\n",
       "    .dataframe tbody tr th:only-of-type {\n",
       "        vertical-align: middle;\n",
       "    }\n",
       "\n",
       "    .dataframe tbody tr th {\n",
       "        vertical-align: top;\n",
       "    }\n",
       "\n",
       "    .dataframe thead th {\n",
       "        text-align: right;\n",
       "    }\n",
       "</style>\n",
       "<table border=\"1\" class=\"dataframe\">\n",
       "  <thead>\n",
       "    <tr style=\"text-align: right;\">\n",
       "      <th></th>\n",
       "      <th>text_info</th>\n",
       "      <th>tweet_text</th>\n",
       "    </tr>\n",
       "  </thead>\n",
       "  <tbody>\n",
       "    <tr>\n",
       "      <th>0</th>\n",
       "      <td>informative</td>\n",
       "      <td>RT @Gizmodo: Wildfires raging through Northern...</td>\n",
       "    </tr>\n",
       "    <tr>\n",
       "      <th>1</th>\n",
       "      <td>informative</td>\n",
       "      <td>PHOTOS: Deadly wildfires rage in California ht...</td>\n",
       "    </tr>\n",
       "    <tr>\n",
       "      <th>2</th>\n",
       "      <td>informative</td>\n",
       "      <td>RT @Cal_OES: PLS SHARE: Weâ€™re capturing wild...</td>\n",
       "    </tr>\n",
       "    <tr>\n",
       "      <th>3</th>\n",
       "      <td>informative</td>\n",
       "      <td>RT @Cal_OES: PLS SHARE: Weâ€™re capturing wild...</td>\n",
       "    </tr>\n",
       "    <tr>\n",
       "      <th>4</th>\n",
       "      <td>informative</td>\n",
       "      <td>RT @TIME: California's raging wildfires as you...</td>\n",
       "    </tr>\n",
       "    <tr>\n",
       "      <th>...</th>\n",
       "      <td>...</td>\n",
       "      <td>...</td>\n",
       "    </tr>\n",
       "    <tr>\n",
       "      <th>18077</th>\n",
       "      <td>not_informative</td>\n",
       "      <td>Get to mora and try the whole menu https://t.c...</td>\n",
       "    </tr>\n",
       "    <tr>\n",
       "      <th>18078</th>\n",
       "      <td>not_informative</td>\n",
       "      <td>Mirka Mora (b.1928), noted French-born Austral...</td>\n",
       "    </tr>\n",
       "    <tr>\n",
       "      <th>18079</th>\n",
       "      <td>not_informative</td>\n",
       "      <td>@PaulMalignaggi Lol What u on about, Sergio Mo...</td>\n",
       "    </tr>\n",
       "    <tr>\n",
       "      <th>18080</th>\n",
       "      <td>not_informative</td>\n",
       "      <td>#Cameroon : 4 #female suicide #Bombers kill 1 ...</td>\n",
       "    </tr>\n",
       "    <tr>\n",
       "      <th>18081</th>\n",
       "      <td>not_informative</td>\n",
       "      <td>RT @saakey6251413: it happened during the visi...</td>\n",
       "    </tr>\n",
       "  </tbody>\n",
       "</table>\n",
       "<p>18082 rows × 2 columns</p>\n",
       "</div>"
      ],
      "text/plain": [
       "             text_info                                         tweet_text\n",
       "0          informative  RT @Gizmodo: Wildfires raging through Northern...\n",
       "1          informative  PHOTOS: Deadly wildfires rage in California ht...\n",
       "2          informative  RT @Cal_OES: PLS SHARE: Weâ€™re capturing wild...\n",
       "3          informative  RT @Cal_OES: PLS SHARE: Weâ€™re capturing wild...\n",
       "4          informative  RT @TIME: California's raging wildfires as you...\n",
       "...                ...                                                ...\n",
       "18077  not_informative  Get to mora and try the whole menu https://t.c...\n",
       "18078  not_informative  Mirka Mora (b.1928), noted French-born Austral...\n",
       "18079  not_informative  @PaulMalignaggi Lol What u on about, Sergio Mo...\n",
       "18080  not_informative  #Cameroon : 4 #female suicide #Bombers kill 1 ...\n",
       "18081  not_informative  RT @saakey6251413: it happened during the visi...\n",
       "\n",
       "[18082 rows x 2 columns]"
      ]
     },
     "execution_count": 23,
     "metadata": {},
     "output_type": "execute_result"
    }
   ],
   "source": [
    "df"
   ]
  },
  {
   "cell_type": "code",
   "execution_count": 24,
   "id": "91722aa9",
   "metadata": {},
   "outputs": [
    {
     "data": {
      "text/plain": [
       "0        RT @Gizmodo: Wildfires raging through Northern...\n",
       "1        PHOTOS: Deadly wildfires rage in California ht...\n",
       "2        RT @Cal_OES: PLS SHARE: Weâ€™re capturing wild...\n",
       "3        RT @Cal_OES: PLS SHARE: Weâ€™re capturing wild...\n",
       "4        RT @TIME: California's raging wildfires as you...\n",
       "                               ...                        \n",
       "18077    Get to mora and try the whole menu https://t.c...\n",
       "18078    Mirka Mora (b.1928), noted French-born Austral...\n",
       "18079    @PaulMalignaggi Lol What u on about, Sergio Mo...\n",
       "18080    #Cameroon : 4 #female suicide #Bombers kill 1 ...\n",
       "18081    RT @saakey6251413: it happened during the visi...\n",
       "Name: tweet_text, Length: 18082, dtype: object"
      ]
     },
     "execution_count": 24,
     "metadata": {},
     "output_type": "execute_result"
    }
   ],
   "source": [
    "df['tweet_text']"
   ]
  },
  {
   "cell_type": "code",
   "execution_count": 25,
   "id": "6603cc1e",
   "metadata": {},
   "outputs": [],
   "source": [
    "df.rename(columns = {'text_info':'label','tweet_text':'text'}, inplace = True)"
   ]
  },
  {
   "cell_type": "code",
   "execution_count": 26,
   "id": "ae055df7",
   "metadata": {},
   "outputs": [
    {
     "data": {
      "text/html": [
       "<div>\n",
       "<style scoped>\n",
       "    .dataframe tbody tr th:only-of-type {\n",
       "        vertical-align: middle;\n",
       "    }\n",
       "\n",
       "    .dataframe tbody tr th {\n",
       "        vertical-align: top;\n",
       "    }\n",
       "\n",
       "    .dataframe thead th {\n",
       "        text-align: right;\n",
       "    }\n",
       "</style>\n",
       "<table border=\"1\" class=\"dataframe\">\n",
       "  <thead>\n",
       "    <tr style=\"text-align: right;\">\n",
       "      <th></th>\n",
       "      <th>label</th>\n",
       "      <th>text</th>\n",
       "    </tr>\n",
       "  </thead>\n",
       "  <tbody>\n",
       "    <tr>\n",
       "      <th>0</th>\n",
       "      <td>informative</td>\n",
       "      <td>RT @Gizmodo: Wildfires raging through Northern...</td>\n",
       "    </tr>\n",
       "    <tr>\n",
       "      <th>1</th>\n",
       "      <td>informative</td>\n",
       "      <td>PHOTOS: Deadly wildfires rage in California ht...</td>\n",
       "    </tr>\n",
       "    <tr>\n",
       "      <th>2</th>\n",
       "      <td>informative</td>\n",
       "      <td>RT @Cal_OES: PLS SHARE: Weâ€™re capturing wild...</td>\n",
       "    </tr>\n",
       "    <tr>\n",
       "      <th>3</th>\n",
       "      <td>informative</td>\n",
       "      <td>RT @Cal_OES: PLS SHARE: Weâ€™re capturing wild...</td>\n",
       "    </tr>\n",
       "    <tr>\n",
       "      <th>4</th>\n",
       "      <td>informative</td>\n",
       "      <td>RT @TIME: California's raging wildfires as you...</td>\n",
       "    </tr>\n",
       "    <tr>\n",
       "      <th>...</th>\n",
       "      <td>...</td>\n",
       "      <td>...</td>\n",
       "    </tr>\n",
       "    <tr>\n",
       "      <th>18077</th>\n",
       "      <td>not_informative</td>\n",
       "      <td>Get to mora and try the whole menu https://t.c...</td>\n",
       "    </tr>\n",
       "    <tr>\n",
       "      <th>18078</th>\n",
       "      <td>not_informative</td>\n",
       "      <td>Mirka Mora (b.1928), noted French-born Austral...</td>\n",
       "    </tr>\n",
       "    <tr>\n",
       "      <th>18079</th>\n",
       "      <td>not_informative</td>\n",
       "      <td>@PaulMalignaggi Lol What u on about, Sergio Mo...</td>\n",
       "    </tr>\n",
       "    <tr>\n",
       "      <th>18080</th>\n",
       "      <td>not_informative</td>\n",
       "      <td>#Cameroon : 4 #female suicide #Bombers kill 1 ...</td>\n",
       "    </tr>\n",
       "    <tr>\n",
       "      <th>18081</th>\n",
       "      <td>not_informative</td>\n",
       "      <td>RT @saakey6251413: it happened during the visi...</td>\n",
       "    </tr>\n",
       "  </tbody>\n",
       "</table>\n",
       "<p>18082 rows × 2 columns</p>\n",
       "</div>"
      ],
      "text/plain": [
       "                 label                                               text\n",
       "0          informative  RT @Gizmodo: Wildfires raging through Northern...\n",
       "1          informative  PHOTOS: Deadly wildfires rage in California ht...\n",
       "2          informative  RT @Cal_OES: PLS SHARE: Weâ€™re capturing wild...\n",
       "3          informative  RT @Cal_OES: PLS SHARE: Weâ€™re capturing wild...\n",
       "4          informative  RT @TIME: California's raging wildfires as you...\n",
       "...                ...                                                ...\n",
       "18077  not_informative  Get to mora and try the whole menu https://t.c...\n",
       "18078  not_informative  Mirka Mora (b.1928), noted French-born Austral...\n",
       "18079  not_informative  @PaulMalignaggi Lol What u on about, Sergio Mo...\n",
       "18080  not_informative  #Cameroon : 4 #female suicide #Bombers kill 1 ...\n",
       "18081  not_informative  RT @saakey6251413: it happened during the visi...\n",
       "\n",
       "[18082 rows x 2 columns]"
      ]
     },
     "execution_count": 26,
     "metadata": {},
     "output_type": "execute_result"
    }
   ],
   "source": [
    "df"
   ]
  },
  {
   "cell_type": "code",
   "execution_count": 27,
   "id": "ee16084d",
   "metadata": {},
   "outputs": [
    {
     "data": {
      "text/plain": [
       "label    object\n",
       "text     object\n",
       "dtype: object"
      ]
     },
     "execution_count": 27,
     "metadata": {},
     "output_type": "execute_result"
    }
   ],
   "source": [
    "df.dtypes"
   ]
  },
  {
   "cell_type": "code",
   "execution_count": 8,
   "id": "5f3d2ab1",
   "metadata": {},
   "outputs": [],
   "source": [
    "import re\n",
    "df['text'] = df['text'].apply(lambda x: re.split('https:\\/\\/.*', str(x))[0])\n"
   ]
  },
  {
   "cell_type": "code",
   "execution_count": 28,
   "id": "31c7d590",
   "metadata": {},
   "outputs": [],
   "source": [
    "df['text']=df['text'].astype('string')"
   ]
  },
  {
   "cell_type": "code",
   "execution_count": 29,
   "id": "e9409d46",
   "metadata": {},
   "outputs": [
    {
     "data": {
      "text/plain": [
       "0        RT @Gizmodo: Wildfires raging through Northern...\n",
       "1        PHOTOS: Deadly wildfires rage in California ht...\n",
       "2        RT @Cal_OES: PLS SHARE: Weâ€™re capturing wild...\n",
       "3        RT @Cal_OES: PLS SHARE: Weâ€™re capturing wild...\n",
       "4        RT @TIME: California's raging wildfires as you...\n",
       "                               ...                        \n",
       "18077    Get to mora and try the whole menu https://t.c...\n",
       "18078    Mirka Mora (b.1928), noted French-born Austral...\n",
       "18079    @PaulMalignaggi Lol What u on about, Sergio Mo...\n",
       "18080    #Cameroon : 4 #female suicide #Bombers kill 1 ...\n",
       "18081    RT @saakey6251413: it happened during the visi...\n",
       "Name: text, Length: 18082, dtype: string"
      ]
     },
     "execution_count": 29,
     "metadata": {},
     "output_type": "execute_result"
    }
   ],
   "source": [
    "df['text']"
   ]
  },
  {
   "cell_type": "code",
   "execution_count": 30,
   "id": "7dd8f875",
   "metadata": {},
   "outputs": [],
   "source": [
    "df['text']=df['text'].dropna()\n",
    "\n",
    "df['text']=df['text'].apply(lambda x: \" \".join(x.lower() for x in x.split()))"
   ]
  },
  {
   "cell_type": "code",
   "execution_count": 31,
   "id": "dab45035",
   "metadata": {},
   "outputs": [],
   "source": [
    "import pandas as pd\n",
    "import matplotlib.pyplot as plt\n",
    "%matplotlib inline  \n",
    "import nltk\n",
    "from nltk import word_tokenize, sent_tokenize\n",
    "from nltk.corpus import stopwords\n",
    "from nltk.stem import LancasterStemmer, WordNetLemmatizer, PorterStemmer\n",
    "#from wordcloud import WordCloud, STOPWORDS\n",
    "#from textblob import TextBlob\n",
    "import re\n",
    "import sys\n",
    "from nltk.corpus import stopwords\n",
    "from nltk.tokenize import word_tokenize\n",
    "import numpy as np\n",
    "# Importing library for stemming\n",
    "from nltk.stem import PorterStemmer\n",
    "stemming = PorterStemmer()\n",
    "from nltk.stem.wordnet import WordNetLemmatizer\n",
    "lemmatizing = WordNetLemmatizer()"
   ]
  },
  {
   "cell_type": "code",
   "execution_count": 32,
   "id": "da7e2bb8",
   "metadata": {},
   "outputs": [],
   "source": [
    "def remove_pattern(input_txt, pattern):\n",
    "    r = re.findall(pattern, input_txt)\n",
    "    for i in r:\n",
    "        input_txt = re.sub(i, '', input_txt)\n",
    "        input_txt = re.sub(i, '', input_txt)\n",
    "    return input_txt\n",
    "df['text'] = np.vectorize(remove_pattern)(df['text'], \"@[\\w]*\")\n",
    "df['text'] = np.vectorize(remove_pattern)(df['text'], '^https?:\\/\\/.*[\\r\\n]*')"
   ]
  },
  {
   "cell_type": "code",
   "execution_count": 33,
   "id": "5e77dc64",
   "metadata": {},
   "outputs": [],
   "source": [
    "df['text'] =df['text'].apply(lambda x: x.lower())\n",
    "df['text'] =df['text'].apply(lambda x: re.sub(r'[^\\w\\s]',' ',x))\n",
    "df['text'] =df['text'].apply(lambda x: re.sub(r'[^a-zA-Z0-9]',' ',x))\n",
    "df['text'] =df['text'].apply(lambda x: re.sub(r'[^a-zA-Z]',' ',x))\n",
    "\n",
    "df['text'] =df['text'].apply(lambda x: word_tokenize(x))\n"
   ]
  },
  {
   "cell_type": "code",
   "execution_count": 16,
   "id": "5906ae51",
   "metadata": {},
   "outputs": [
    {
     "name": "stderr",
     "output_type": "stream",
     "text": [
      "[nltk_data] Downloading package omw-1.4 to\n",
      "[nltk_data]     C:\\Users\\91900\\AppData\\Roaming\\nltk_data...\n",
      "[nltk_data]   Package omw-1.4 is already up-to-date!\n"
     ]
    },
    {
     "data": {
      "text/plain": [
       "True"
      ]
     },
     "execution_count": 16,
     "metadata": {},
     "output_type": "execute_result"
    }
   ],
   "source": [
    "import nltk\n",
    "nltk.download('omw-1.4')"
   ]
  },
  {
   "cell_type": "code",
   "execution_count": 34,
   "id": "56c1d6e4",
   "metadata": {},
   "outputs": [],
   "source": [
    "import nltk\n",
    "stop_words = set(stopwords.words('english'))\n",
    "df['text'] =df['text'].apply(lambda x: [word for word in x if not word in stop_words])\n",
    "\n",
    "df['text']=df['text'].apply(lambda x: ' '.join([stemming.stem(i) for i in x]))\n",
    "\n",
    "df['text']=df['text'].apply(lambda x: ''.join([lemmatizing.lemmatize(i) for i in x]))"
   ]
  },
  {
   "cell_type": "code",
   "execution_count": 35,
   "id": "7bd8185f",
   "metadata": {},
   "outputs": [],
   "source": [
    "df.to_csv('alldatasetspre.csv', index=False)"
   ]
  },
  {
   "cell_type": "code",
   "execution_count": 36,
   "id": "ec832274",
   "metadata": {},
   "outputs": [
    {
     "data": {
      "text/html": [
       "<div>\n",
       "<style scoped>\n",
       "    .dataframe tbody tr th:only-of-type {\n",
       "        vertical-align: middle;\n",
       "    }\n",
       "\n",
       "    .dataframe tbody tr th {\n",
       "        vertical-align: top;\n",
       "    }\n",
       "\n",
       "    .dataframe thead th {\n",
       "        text-align: right;\n",
       "    }\n",
       "</style>\n",
       "<table border=\"1\" class=\"dataframe\">\n",
       "  <thead>\n",
       "    <tr style=\"text-align: right;\">\n",
       "      <th></th>\n",
       "      <th>label</th>\n",
       "      <th>text</th>\n",
       "    </tr>\n",
       "  </thead>\n",
       "  <tbody>\n",
       "    <tr>\n",
       "      <th>0</th>\n",
       "      <td>informative</td>\n",
       "      <td>rt wildfir rage northern california terrifi ht...</td>\n",
       "    </tr>\n",
       "    <tr>\n",
       "      <th>1</th>\n",
       "      <td>informative</td>\n",
       "      <td>photo deadli wildfir rage california http co t...</td>\n",
       "    </tr>\n",
       "    <tr>\n",
       "      <th>2</th>\n",
       "      <td>informative</td>\n",
       "      <td>rt pl share captur wildfir respons recoveri in...</td>\n",
       "    </tr>\n",
       "    <tr>\n",
       "      <th>3</th>\n",
       "      <td>informative</td>\n",
       "      <td>rt pl share captur wildfir respons recoveri in...</td>\n",
       "    </tr>\n",
       "    <tr>\n",
       "      <th>4</th>\n",
       "      <td>informative</td>\n",
       "      <td>rt california rage wildfir never seen http co ...</td>\n",
       "    </tr>\n",
       "    <tr>\n",
       "      <th>...</th>\n",
       "      <td>...</td>\n",
       "      <td>...</td>\n",
       "    </tr>\n",
       "    <tr>\n",
       "      <th>18077</th>\n",
       "      <td>not_informative</td>\n",
       "      <td>get mora tri whole menu http co jhsl pc</td>\n",
       "    </tr>\n",
       "    <tr>\n",
       "      <th>18078</th>\n",
       "      <td>not_informative</td>\n",
       "      <td>mirka mora b note french born australian colou...</td>\n",
       "    </tr>\n",
       "    <tr>\n",
       "      <th>18079</th>\n",
       "      <td>not_informative</td>\n",
       "      <td>lol u sergio mora horn win http co olvjcqeml</td>\n",
       "    </tr>\n",
       "    <tr>\n",
       "      <th>18080</th>\n",
       "      <td>not_informative</td>\n",
       "      <td>cameroon femal suicid bomber kill mora http co...</td>\n",
       "    </tr>\n",
       "    <tr>\n",
       "      <th>18081</th>\n",
       "      <td>not_informative</td>\n",
       "      <td>rt happen visit cyclonemora bangladesh http co...</td>\n",
       "    </tr>\n",
       "  </tbody>\n",
       "</table>\n",
       "<p>18082 rows × 2 columns</p>\n",
       "</div>"
      ],
      "text/plain": [
       "                 label                                               text\n",
       "0          informative  rt wildfir rage northern california terrifi ht...\n",
       "1          informative  photo deadli wildfir rage california http co t...\n",
       "2          informative  rt pl share captur wildfir respons recoveri in...\n",
       "3          informative  rt pl share captur wildfir respons recoveri in...\n",
       "4          informative  rt california rage wildfir never seen http co ...\n",
       "...                ...                                                ...\n",
       "18077  not_informative            get mora tri whole menu http co jhsl pc\n",
       "18078  not_informative  mirka mora b note french born australian colou...\n",
       "18079  not_informative       lol u sergio mora horn win http co olvjcqeml\n",
       "18080  not_informative  cameroon femal suicid bomber kill mora http co...\n",
       "18081  not_informative  rt happen visit cyclonemora bangladesh http co...\n",
       "\n",
       "[18082 rows x 2 columns]"
      ]
     },
     "execution_count": 36,
     "metadata": {},
     "output_type": "execute_result"
    }
   ],
   "source": [
    "ldf"
   ]
  },
  {
   "cell_type": "code",
   "execution_count": 37,
   "id": "aca1ea87",
   "metadata": {},
   "outputs": [
    {
     "data": {
      "text/plain": [
       "label    object\n",
       "text     object\n",
       "dtype: object"
      ]
     },
     "execution_count": 37,
     "metadata": {},
     "output_type": "execute_result"
    }
   ],
   "source": [
    "df.dtypes"
   ]
  },
  {
   "cell_type": "code",
   "execution_count": 39,
   "id": "dcf6ebfb",
   "metadata": {},
   "outputs": [
    {
     "name": "stderr",
     "output_type": "stream",
     "text": [
      "ERROR: Could not find a version that satisfies the requirement lambl_helpers (from versions: none)\n",
      "ERROR: No matching distribution found for lambl_helpers\n"
     ]
    }
   ],
   "source": []
  },
  {
   "cell_type": "code",
   "execution_count": null,
   "id": "c9fb733f",
   "metadata": {},
   "outputs": [],
   "source": []
  }
 ],
 "metadata": {
  "kernelspec": {
   "display_name": "Python 3 (ipykernel)",
   "language": "python",
   "name": "python3"
  },
  "language_info": {
   "codemirror_mode": {
    "name": "ipython",
    "version": 3
   },
   "file_extension": ".py",
   "mimetype": "text/x-python",
   "name": "python",
   "nbconvert_exporter": "python",
   "pygments_lexer": "ipython3",
   "version": "3.9.13"
  }
 },
 "nbformat": 4,
 "nbformat_minor": 5
}
